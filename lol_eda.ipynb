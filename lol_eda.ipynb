{
 "cells": [
  {
   "cell_type": "markdown",
   "metadata": {},
   "source": [
    "# Exploratory Data Analysis (EDA) with Feature Engineering for LoL stats\n",
    "##### Sample: ~4500 games with 4+ S6 Plat players\n",
    "##### The hashtags make the headings larger or smaller but I don't understand how they work yet.\n",
    "##### My brother (A data scientist!) helped me put this analysis together.  He did most of the work."
   ]
  },
  {
   "cell_type": "code",
   "execution_count": 130,
   "metadata": {
    "collapsed": false
   },
   "outputs": [],
   "source": [
    "#I think this is for histograms\n",
    "%matplotlib inline\n",
    "\n",
    "#'pd', 'np', and 'plt' are standard notations in the data science industry\n",
    "import json\n",
    "import os\n",
    "import pandas as pd\n",
    "import numpy as np\n",
    "import matplotlib.pylab as plt"
   ]
  },
  {
   "cell_type": "code",
   "execution_count": 14,
   "metadata": {
    "collapsed": false
   },
   "outputs": [],
   "source": [
    "#Gather the files in the 'matchData' subdirectory.  They're all JSON files containing stats for an individual LoL match.\n",
    "matches = os.listdir('matchData')"
   ]
  },
  {
   "cell_type": "markdown",
   "metadata": {},
   "source": [
    "### Trying to figure out how to load in json"
   ]
  },
  {
   "cell_type": "code",
   "execution_count": 97,
   "metadata": {
    "collapsed": false
   },
   "outputs": [
    {
     "data": {
      "text/plain": [
       "['match-2536802224.json',\n",
       " 'match-2536802235.json',\n",
       " 'match-2536802243.json',\n",
       " 'match-2536802332.json',\n",
       " 'match-2536802336.json']"
      ]
     },
     "execution_count": 97,
     "metadata": {},
     "output_type": "execute_result"
    }
   ],
   "source": [
    "matches[0:5]"
   ]
  },
  {
   "cell_type": "code",
   "execution_count": 103,
   "metadata": {
    "collapsed": false
   },
   "outputs": [],
   "source": [
    "#Assign relevant dimensions.\n",
    "tot_dmg_taken_list = []\n",
    "tot_dmg_dealt_list = []\n",
    "dmg_mitig_list = []\n",
    "gld_list = []\n",
    "win_list = []\n",
    "chmp_list = []\n",
    "game_id = []\n",
    "\n",
    "#Cycle through all matches in the directory, and add JSON data to our data dimensions (I don't think they're called data dimensions)\n",
    "#To make this, we did each step piece by piece and copied all the cells together below, once we got it working.\n",
    "for match in matches:\n",
    "    with open('matchData/'+match) as f:\n",
    "        match_json = json.load(f)\n",
    "        for player in range(num_players):\n",
    "            tot_dmg_taken_list.append(match_json['participants'][player]['stats']['totalDamageTaken'])\n",
    "            tot_dmg_dealt_list.append(match_json['participants'][player]['stats']['totalDamageDealt'])\n",
    "            dmg_mitig_list.append(match_json['participants'][player]['stats']['damageSelfMitigated'])\n",
    "            gld_list.append(match_json['participants'][player]['stats']['goldEarned'])\n",
    "            win_list.append(match_json['participants'][player]['stats']['win'])\n",
    "            chmp_list.append(match_json['participants'][player]['championId'])\n",
    "            game_id.append(match_json['gameId'])"
   ]
  },
  {
   "cell_type": "code",
   "execution_count": 104,
   "metadata": {
    "collapsed": true
   },
   "outputs": [],
   "source": [
    "#Define fields for the Pandas DataFrame.\n",
    "df = pd.DataFrame(\n",
    "                  {'game_id':game_id,\n",
    "                   'champ_id':chmp_list,\n",
    "                   'tot_dmg_tkn':tot_dmg_taken_list,\n",
    "                   'tot_dmg_dlt':tot_dmg_dealt_list,\n",
    "                   'dmg_mitig':dmg_mitig_list,\n",
    "                   'gold':gld_list,\n",
    "                   'win':win_list}\n",
    "                )"
   ]
  },
  {
   "cell_type": "code",
   "execution_count": 107,
   "metadata": {
    "collapsed": false
   },
   "outputs": [
    {
     "data": {
      "text/plain": [
       "(62070, 7)"
      ]
     },
     "execution_count": 107,
     "metadata": {},
     "output_type": "execute_result"
    }
   ],
   "source": [
    "#Shape tells you the dimensions of the object.  \n",
    "#Also, I can get documentation for class methods instantly with a keyboard shortcut but I don't know how.\n",
    "df.shape"
   ]
  },
  {
   "cell_type": "code",
   "execution_count": 108,
   "metadata": {
    "collapsed": false
   },
   "outputs": [
    {
     "data": {
      "text/html": [
       "<div>\n",
       "<table border=\"1\" class=\"dataframe\">\n",
       "  <thead>\n",
       "    <tr style=\"text-align: right;\">\n",
       "      <th></th>\n",
       "      <th>champ_id</th>\n",
       "      <th>dmg_mitig</th>\n",
       "      <th>game_id</th>\n",
       "      <th>gold</th>\n",
       "      <th>tot_dmg_dlt</th>\n",
       "      <th>tot_dmg_tkn</th>\n",
       "      <th>win</th>\n",
       "    </tr>\n",
       "  </thead>\n",
       "  <tbody>\n",
       "    <tr>\n",
       "      <th>0</th>\n",
       "      <td>86</td>\n",
       "      <td>29548</td>\n",
       "      <td>2536802224</td>\n",
       "      <td>10459</td>\n",
       "      <td>77655</td>\n",
       "      <td>18324</td>\n",
       "      <td>True</td>\n",
       "    </tr>\n",
       "    <tr>\n",
       "      <th>1</th>\n",
       "      <td>64</td>\n",
       "      <td>19682</td>\n",
       "      <td>2536802224</td>\n",
       "      <td>9529</td>\n",
       "      <td>113023</td>\n",
       "      <td>24723</td>\n",
       "      <td>True</td>\n",
       "    </tr>\n",
       "    <tr>\n",
       "      <th>2</th>\n",
       "      <td>201</td>\n",
       "      <td>13760</td>\n",
       "      <td>2536802224</td>\n",
       "      <td>8495</td>\n",
       "      <td>22933</td>\n",
       "      <td>16113</td>\n",
       "      <td>True</td>\n",
       "    </tr>\n",
       "    <tr>\n",
       "      <th>3</th>\n",
       "      <td>85</td>\n",
       "      <td>17846</td>\n",
       "      <td>2536802224</td>\n",
       "      <td>14383</td>\n",
       "      <td>142162</td>\n",
       "      <td>25269</td>\n",
       "      <td>True</td>\n",
       "    </tr>\n",
       "    <tr>\n",
       "      <th>4</th>\n",
       "      <td>69</td>\n",
       "      <td>6136</td>\n",
       "      <td>2536802224</td>\n",
       "      <td>8921</td>\n",
       "      <td>74442</td>\n",
       "      <td>13178</td>\n",
       "      <td>True</td>\n",
       "    </tr>\n",
       "  </tbody>\n",
       "</table>\n",
       "</div>"
      ],
      "text/plain": [
       "   champ_id  dmg_mitig     game_id   gold  tot_dmg_dlt  tot_dmg_tkn   win\n",
       "0        86      29548  2536802224  10459        77655        18324  True\n",
       "1        64      19682  2536802224   9529       113023        24723  True\n",
       "2       201      13760  2536802224   8495        22933        16113  True\n",
       "3        85      17846  2536802224  14383       142162        25269  True\n",
       "4        69       6136  2536802224   8921        74442        13178  True"
      ]
     },
     "execution_count": 108,
     "metadata": {},
     "output_type": "execute_result"
    }
   ],
   "source": [
    "#'DataFrame.head()' lets you preview the first few entries of a large object.\n",
    "df.head()"
   ]
  },
  {
   "cell_type": "code",
   "execution_count": 116,
   "metadata": {
    "collapsed": false
   },
   "outputs": [
    {
     "data": {
      "text/plain": [
       "<matplotlib.axes._subplots.AxesSubplot at 0x10d51940>"
      ]
     },
     "execution_count": 116,
     "metadata": {},
     "output_type": "execute_result"
    },
    {
     "data": {
      "image/png": "[encoded data removed]",
      "text/plain": [
       "<matplotlib.figure.Figure at 0x10d5c6a0>"
      ]
     },
     "metadata": {},
     "output_type": "display_data"
    }
   ],
   "source": [
    "#Group Win/Loss with Total Damage taken.\n",
    "df.groupby('win').mean()['tot_dmg_tkn'].plot(kind='bar')"
   ]
  },
  {
   "cell_type": "code",
   "execution_count": 129,
   "metadata": {
    "collapsed": false
   },
   "outputs": [
    {
     "data": {
      "text/html": [
       "<div>\n",
       "<table border=\"1\" class=\"dataframe\">\n",
       "  <thead>\n",
       "    <tr style=\"text-align: right;\">\n",
       "      <th></th>\n",
       "      <th></th>\n",
       "      <th>dmg_mitig</th>\n",
       "      <th>game_id</th>\n",
       "      <th>gold</th>\n",
       "      <th>tot_dmg_dlt</th>\n",
       "      <th>tot_dmg_tkn</th>\n",
       "    </tr>\n",
       "    <tr>\n",
       "      <th>champ_id</th>\n",
       "      <th>win</th>\n",
       "      <th></th>\n",
       "      <th></th>\n",
       "      <th></th>\n",
       "      <th></th>\n",
       "      <th></th>\n",
       "    </tr>\n",
       "  </thead>\n",
       "  <tbody>\n",
       "    <tr>\n",
       "      <th rowspan=\"2\" valign=\"top\">1</th>\n",
       "      <th>False</th>\n",
       "      <td>8203.399103</td>\n",
       "      <td>2.536917e+09</td>\n",
       "      <td>10387.255605</td>\n",
       "      <td>95553.596413</td>\n",
       "      <td>18482.784753</td>\n",
       "    </tr>\n",
       "    <tr>\n",
       "      <th>True</th>\n",
       "      <td>7112.783920</td>\n",
       "      <td>2.536915e+09</td>\n",
       "      <td>12435.894472</td>\n",
       "      <td>107795.502513</td>\n",
       "      <td>16329.175879</td>\n",
       "    </tr>\n",
       "    <tr>\n",
       "      <th rowspan=\"2\" valign=\"top\">2</th>\n",
       "      <th>False</th>\n",
       "      <td>30337.221239</td>\n",
       "      <td>2.536917e+09</td>\n",
       "      <td>10260.938053</td>\n",
       "      <td>125529.283186</td>\n",
       "      <td>32046.309735</td>\n",
       "    </tr>\n",
       "    <tr>\n",
       "      <th>True</th>\n",
       "      <td>31096.910714</td>\n",
       "      <td>2.536913e+09</td>\n",
       "      <td>12572.241071</td>\n",
       "      <td>147482.946429</td>\n",
       "      <td>32398.214286</td>\n",
       "    </tr>\n",
       "    <tr>\n",
       "      <th>3</th>\n",
       "      <th>False</th>\n",
       "      <td>38653.248996</td>\n",
       "      <td>2.536915e+09</td>\n",
       "      <td>9749.425703</td>\n",
       "      <td>104731.349398</td>\n",
       "      <td>24226.176707</td>\n",
       "    </tr>\n",
       "  </tbody>\n",
       "</table>\n",
       "</div>"
      ],
      "text/plain": [
       "                   dmg_mitig       game_id          gold    tot_dmg_dlt  \\\n",
       "champ_id win                                                              \n",
       "1        False   8203.399103  2.536917e+09  10387.255605   95553.596413   \n",
       "         True    7112.783920  2.536915e+09  12435.894472  107795.502513   \n",
       "2        False  30337.221239  2.536917e+09  10260.938053  125529.283186   \n",
       "         True   31096.910714  2.536913e+09  12572.241071  147482.946429   \n",
       "3        False  38653.248996  2.536915e+09   9749.425703  104731.349398   \n",
       "\n",
       "                 tot_dmg_tkn  \n",
       "champ_id win                  \n",
       "1        False  18482.784753  \n",
       "         True   16329.175879  \n",
       "2        False  32046.309735  \n",
       "         True   32398.214286  \n",
       "3        False  24226.176707  "
      ]
     },
     "execution_count": 129,
     "metadata": {},
     "output_type": "execute_result"
    }
   ],
   "source": [
    "#Here's a preview for our completed dataframe.\n",
    "df.groupby(['champ_id','win']).mean().head()"
   ]
  },
  {
   "cell_type": "code",
   "execution_count": 120,
   "metadata": {
    "collapsed": false
   },
   "outputs": [
    {
     "data": {
      "text/html": [
       "<div>\n",
       "<table border=\"1\" class=\"dataframe\">\n",
       "  <thead>\n",
       "    <tr style=\"text-align: right;\">\n",
       "      <th></th>\n",
       "      <th>champ_id</th>\n",
       "      <th>dmg_mitig</th>\n",
       "      <th>game_id</th>\n",
       "      <th>gold</th>\n",
       "      <th>tot_dmg_dlt</th>\n",
       "      <th>tot_dmg_tkn</th>\n",
       "    </tr>\n",
       "    <tr>\n",
       "      <th>win</th>\n",
       "      <th></th>\n",
       "      <th></th>\n",
       "      <th></th>\n",
       "      <th></th>\n",
       "      <th></th>\n",
       "      <th></th>\n",
       "    </tr>\n",
       "  </thead>\n",
       "  <tbody>\n",
       "    <tr>\n",
       "      <th>False</th>\n",
       "      <td>86</td>\n",
       "      <td>32992.493506</td>\n",
       "      <td>2.536910e+09</td>\n",
       "      <td>10214.688312</td>\n",
       "      <td>109636.623377</td>\n",
       "      <td>27716.818182</td>\n",
       "    </tr>\n",
       "    <tr>\n",
       "      <th>True</th>\n",
       "      <td>86</td>\n",
       "      <td>33580.462963</td>\n",
       "      <td>2.536925e+09</td>\n",
       "      <td>12743.722222</td>\n",
       "      <td>132583.166667</td>\n",
       "      <td>25953.074074</td>\n",
       "    </tr>\n",
       "  </tbody>\n",
       "</table>\n",
       "</div>"
      ],
      "text/plain": [
       "       champ_id     dmg_mitig       game_id          gold    tot_dmg_dlt  \\\n",
       "win                                                                        \n",
       "False        86  32992.493506  2.536910e+09  10214.688312  109636.623377   \n",
       "True         86  33580.462963  2.536925e+09  12743.722222  132583.166667   \n",
       "\n",
       "        tot_dmg_tkn  \n",
       "win                  \n",
       "False  27716.818182  \n",
       "True   25953.074074  "
      ]
     },
     "execution_count": 120,
     "metadata": {},
     "output_type": "execute_result"
    }
   ],
   "source": [
    "#Here's the win/loss stats for Garen (Champion 86)\n",
    "df[df['champ_id']==86].groupby('win').mean()"
   ]
  },
  {
   "cell_type": "code",
   "execution_count": 131,
   "metadata": {
    "collapsed": false
   },
   "outputs": [
    {
     "data": {
      "text/plain": [
       "(array([  1.,   1.,   8.,   6.,  14.,  17.,  22.,  18.,   6.,   7.]),\n",
       " array([-3.17211673, -2.6439614 , -2.11580607, -1.58765074, -1.05949542,\n",
       "        -0.53134009, -0.00318476,  0.52497056,  1.05312589,  1.58128122,\n",
       "         2.10943654]),\n",
       " <a list of 10 Patch objects>)"
      ]
     },
     "execution_count": 131,
     "metadata": {},
     "output_type": "execute_result"
    },
    {
     "data": {
      "image/png": "[encoded data removed]",
      "text/plain": [
       "<matplotlib.figure.Figure at 0x10d28ef0>"
      ]
     },
     "metadata": {},
     "output_type": "display_data"
    }
   ],
   "source": [
    "# A histogram of random numbers.\n",
    "plt.hist(np.random.randn(100))"
   ]
  },
  {
   "cell_type": "code",
   "execution_count": 136,
   "metadata": {
    "collapsed": false
   },
   "outputs": [
    {
     "data": {
      "text/plain": [
       "(array([ 4.,  0.,  0.,  0.,  2.,  2.,  3.,  5.,  6.,  5.,  8.,  4.,  5.,\n",
       "         3.,  6.,  7.,  4.,  4.,  4.,  5.]),\n",
       " array([   656. ,   1465.1,   2274.2,   3083.3,   3892.4,   4701.5,\n",
       "          5510.6,   6319.7,   7128.8,   7937.9,   8747. ,   9556.1,\n",
       "         10365.2,  11174.3,  11983.4,  12792.5,  13601.6,  14410.7,\n",
       "         15219.8,  16028.9,  16838. ]),\n",
       " <a list of 20 Patch objects>)"
      ]
     },
     "execution_count": 136,
     "metadata": {},
     "output_type": "execute_result"
    },
    {
     "data": {
      "image/png": "[encoded data removed]",
      "text/plain": [
       "<matplotlib.figure.Figure at 0x122f52b0>"
      ]
     },
     "metadata": {},
     "output_type": "display_data"
    }
   ],
   "source": [
    "#A histogram of lost Garen games showing gold accumulated.\n",
    "plt.hist(df[(df['champ_id']==86)&(df['win']==False)]['gold'].values,bins=20)"
   ]
  },
  {
   "cell_type": "code",
   "execution_count": 137,
   "metadata": {
    "collapsed": false
   },
   "outputs": [
    {
     "data": {
      "text/plain": [
       "(array([ 1.,  0.,  0.,  0.,  0.,  0.,  0.,  2.,  1.,  1.,  5.,  3.,  2.,\n",
       "         8.,  4.,  9.,  6.,  4.,  4.,  4.]),\n",
       " array([  1060.  ,   1875.75,   2691.5 ,   3507.25,   4323.  ,   5138.75,\n",
       "          5954.5 ,   6770.25,   7586.  ,   8401.75,   9217.5 ,  10033.25,\n",
       "         10849.  ,  11664.75,  12480.5 ,  13296.25,  14112.  ,  14927.75,\n",
       "         15743.5 ,  16559.25,  17375.  ]),\n",
       " <a list of 20 Patch objects>)"
      ]
     },
     "execution_count": 137,
     "metadata": {},
     "output_type": "execute_result"
    },
    {
     "data": {
      "image/png": "[encoded data removed]",
      "text/plain": [
       "<matplotlib.figure.Figure at 0x11e68128>"
      ]
     },
     "metadata": {},
     "output_type": "display_data"
    }
   ],
   "source": [
    "#A histogram of won Garen games showing gold accumulated.  Note there's more gold (Longer games)\n",
    "plt.hist(df[(df['champ_id']==86)&(df['win']==True)]['gold'].values,bins=20)"
   ]
  },
  {
   "cell_type": "code",
   "execution_count": 178,
   "metadata": {
    "collapsed": false
   },
   "outputs": [],
   "source": [
    "#Watch out for pivots!  They're really confusing!  Reset Index does something important but I'm not sure what.\n",
    "win_loss = df.groupby(['champ_id','win']).count()['game_id'].reset_index().pivot(index='champ_id',columns='win')['game_id']"
   ]
  },
  {
   "cell_type": "code",
   "execution_count": 185,
   "metadata": {
    "collapsed": false
   },
   "outputs": [
    {
     "data": {
      "text/html": [
       "<div>\n",
       "<table border=\"1\" class=\"dataframe\">\n",
       "  <thead>\n",
       "    <tr style=\"text-align: right;\">\n",
       "      <th></th>\n",
       "      <th></th>\n",
       "      <th>dmg_mitig</th>\n",
       "      <th>game_id</th>\n",
       "      <th>gold</th>\n",
       "      <th>tot_dmg_dlt</th>\n",
       "      <th>tot_dmg_tkn</th>\n",
       "    </tr>\n",
       "    <tr>\n",
       "      <th>champ_id</th>\n",
       "      <th>win</th>\n",
       "      <th></th>\n",
       "      <th></th>\n",
       "      <th></th>\n",
       "      <th></th>\n",
       "      <th></th>\n",
       "    </tr>\n",
       "  </thead>\n",
       "  <tbody>\n",
       "    <tr>\n",
       "      <th rowspan=\"2\" valign=\"top\">1</th>\n",
       "      <th>False</th>\n",
       "      <td>223</td>\n",
       "      <td>223</td>\n",
       "      <td>223</td>\n",
       "      <td>223</td>\n",
       "      <td>223</td>\n",
       "    </tr>\n",
       "    <tr>\n",
       "      <th>True</th>\n",
       "      <td>199</td>\n",
       "      <td>199</td>\n",
       "      <td>199</td>\n",
       "      <td>199</td>\n",
       "      <td>199</td>\n",
       "    </tr>\n",
       "    <tr>\n",
       "      <th rowspan=\"2\" valign=\"top\">2</th>\n",
       "      <th>False</th>\n",
       "      <td>113</td>\n",
       "      <td>113</td>\n",
       "      <td>113</td>\n",
       "      <td>113</td>\n",
       "      <td>113</td>\n",
       "    </tr>\n",
       "    <tr>\n",
       "      <th>True</th>\n",
       "      <td>112</td>\n",
       "      <td>112</td>\n",
       "      <td>112</td>\n",
       "      <td>112</td>\n",
       "      <td>112</td>\n",
       "    </tr>\n",
       "    <tr>\n",
       "      <th>3</th>\n",
       "      <th>False</th>\n",
       "      <td>249</td>\n",
       "      <td>249</td>\n",
       "      <td>249</td>\n",
       "      <td>249</td>\n",
       "      <td>249</td>\n",
       "    </tr>\n",
       "  </tbody>\n",
       "</table>\n",
       "</div>"
      ],
      "text/plain": [
       "                dmg_mitig  game_id  gold  tot_dmg_dlt  tot_dmg_tkn\n",
       "champ_id win                                                      \n",
       "1        False        223      223   223          223          223\n",
       "         True         199      199   199          199          199\n",
       "2        False        113      113   113          113          113\n",
       "         True         112      112   112          112          112\n",
       "3        False        249      249   249          249          249"
      ]
     },
     "execution_count": 185,
     "metadata": {},
     "output_type": "execute_result"
    }
   ],
   "source": [
    "df.groupby(['champ_id','win']).count().head()"
   ]
  },
  {
   "cell_type": "code",
   "execution_count": 198,
   "metadata": {
    "collapsed": false
   },
   "outputs": [
    {
     "data": {
      "text/plain": [
       "champ_id  win  \n",
       "1         False    223\n",
       "          True     199\n",
       "2         False    113\n",
       "          True     112\n",
       "3         False    249\n",
       "Name: game_id, dtype: int64"
      ]
     },
     "execution_count": 198,
     "metadata": {},
     "output_type": "execute_result"
    }
   ],
   "source": [
    "df.groupby(['champ_id','win']).count()['game_id'].head()"
   ]
  },
  {
   "cell_type": "code",
   "execution_count": 187,
   "metadata": {
    "collapsed": false
   },
   "outputs": [
    {
     "data": {
      "text/plain": [
       "array([ 199,  112,  243,  247,  135,   14,  149,  220,   93,  143,  297,\n",
       "        163,   27,  103,  104,  290,  171,  469,  462,  368,  244,  401,\n",
       "        298,  405,  315,  146,   55,  142,  519,   63,   81,  133,  110,\n",
       "        251,  165,   40,  293,  288,  182,  494,  279,  215,  231,   58,\n",
       "        127,  144,  134,  911,  487,  135,  212,   94,  136,  392,  508,\n",
       "        307,  508,  138,  301,  672,  405,  121,  128,   37,   91,  114,\n",
       "        135,   48,   87,  521,  271,  187,   58,   58,  141,  118,   54,\n",
       "        199,  239,   82,  552,   71,  176,  209,  121,   45,  492,  181,\n",
       "        202,   51,   68,  190,   80,  133,  134,  299,  149,  361,  363,\n",
       "        104,  383,  320,  211,   63,   84,   48,  254,   57,  192,  191,\n",
       "        200,  411,  174,  214,  116,  269,  957,   96,  281,  142,  722,\n",
       "        294,  146,  292,  179,   66,  357,   20, 1053,   73,  282,   80,\n",
       "         81,  307,  358,  364], dtype=int64)"
      ]
     },
     "execution_count": 187,
     "metadata": {},
     "output_type": "execute_result"
    }
   ],
   "source": [
    "#invoking \".values\" uses numpy array, which is lower level and therefore faster \n",
    "win_loss[True].values"
   ]
  },
  {
   "cell_type": "code",
   "execution_count": 189,
   "metadata": {
    "collapsed": false
   },
   "outputs": [
    {
     "name": "stdout",
     "output_type": "stream",
     "text": [
      "Wall time: 1e+03 µs\n"
     ]
    },
    {
     "data": {
      "text/plain": [
       "array([0, 0, 0, 0, 0, 0, 0, 0, 0, 0, 0, 0, 0, 0, 0, 0, 0, 0, 0, 0, 0, 0, 0,\n",
       "       0, 0, 0, 0, 0, 0, 0, 0, 0, 0, 0, 0, 0, 0, 0, 0, 0, 0, 0, 0, 0, 0, 0,\n",
       "       0, 0, 0, 0, 0, 0, 0, 0, 0, 0, 0, 0, 0, 0, 0, 0, 0, 0, 0, 0, 0, 0, 0,\n",
       "       0, 0, 0, 0, 0, 0, 0, 0, 0, 0, 0, 0, 0, 0, 0, 0, 0, 0, 0, 0, 0, 0, 0,\n",
       "       0, 0, 0, 0, 0, 0, 0, 0, 0, 0, 0, 0, 0, 0, 0, 0, 0, 0, 0, 0, 0, 0, 0,\n",
       "       0, 0, 0, 0, 0, 0, 0, 0, 0, 0, 0, 0, 0, 0, 0, 0, 0, 0, 0, 0, 0], dtype=int64)"
      ]
     },
     "execution_count": 189,
     "metadata": {},
     "output_type": "execute_result"
    }
   ],
   "source": [
    "#'%%time' shows execution time, which could be useful for optimizing calculations.\n",
    "%%time\n",
    "win_loss[True].values/(win_loss[True].values+win_loss[False].values)"
   ]
  },
  {
   "cell_type": "code",
   "execution_count": 209,
   "metadata": {
    "collapsed": false
   },
   "outputs": [
    {
     "data": {
      "text/plain": [
       "2.0"
      ]
     },
     "execution_count": 209,
     "metadata": {},
     "output_type": "execute_result"
    }
   ],
   "source": [
    "float(2)\n"
   ]
  },
  {
   "cell_type": "code",
   "execution_count": 207,
   "metadata": {
    "collapsed": false
   },
   "outputs": [],
   "source": [
    "#win_loss[True] = win_loss[True].as_type(float)\n",
    "\n",
    "#,False]] = win_loss[[True,False]].as_type(float)"
   ]
  },
  {
   "cell_type": "code",
   "execution_count": 208,
   "metadata": {
    "collapsed": false
   },
   "outputs": [],
   "source": [
    "#win_loss[True].astype(float)"
   ]
  },
  {
   "cell_type": "code",
   "execution_count": 210,
   "metadata": {
    "collapsed": false
   },
   "outputs": [],
   "source": [
    "#List Comprehension (We made a compromise here, a \"Lazy\" solution because we had problems with Pivot formatting)\n",
    "win_loss['WL_ratio'] = [float(val) for val in win_loss[True].values]/(win_loss[True].values+win_loss[False].values)"
   ]
  },
  {
   "cell_type": "code",
   "execution_count": 211,
   "metadata": {
    "collapsed": false
   },
   "outputs": [
    {
     "data": {
      "text/html": [
       "<div>\n",
       "<table border=\"1\" class=\"dataframe\">\n",
       "  <thead>\n",
       "    <tr style=\"text-align: right;\">\n",
       "      <th>win</th>\n",
       "      <th>False</th>\n",
       "      <th>True</th>\n",
       "      <th>WL_ratio</th>\n",
       "    </tr>\n",
       "    <tr>\n",
       "      <th>champ_id</th>\n",
       "      <th></th>\n",
       "      <th></th>\n",
       "      <th></th>\n",
       "    </tr>\n",
       "  </thead>\n",
       "  <tbody>\n",
       "    <tr>\n",
       "      <th>133</th>\n",
       "      <td>33</td>\n",
       "      <td>48</td>\n",
       "      <td>0.592593</td>\n",
       "    </tr>\n",
       "    <tr>\n",
       "      <th>20</th>\n",
       "      <td>257</td>\n",
       "      <td>368</td>\n",
       "      <td>0.588800</td>\n",
       "    </tr>\n",
       "    <tr>\n",
       "      <th>55</th>\n",
       "      <td>154</td>\n",
       "      <td>212</td>\n",
       "      <td>0.579235</td>\n",
       "    </tr>\n",
       "    <tr>\n",
       "      <th>266</th>\n",
       "      <td>50</td>\n",
       "      <td>66</td>\n",
       "      <td>0.568966</td>\n",
       "    </tr>\n",
       "    <tr>\n",
       "      <th>34</th>\n",
       "      <td>196</td>\n",
       "      <td>251</td>\n",
       "      <td>0.561521</td>\n",
       "    </tr>\n",
       "    <tr>\n",
       "      <th>80</th>\n",
       "      <td>212</td>\n",
       "      <td>271</td>\n",
       "      <td>0.561077</td>\n",
       "    </tr>\n",
       "    <tr>\n",
       "      <th>57</th>\n",
       "      <td>108</td>\n",
       "      <td>136</td>\n",
       "      <td>0.557377</td>\n",
       "    </tr>\n",
       "    <tr>\n",
       "      <th>62</th>\n",
       "      <td>112</td>\n",
       "      <td>138</td>\n",
       "      <td>0.552000</td>\n",
       "    </tr>\n",
       "    <tr>\n",
       "      <th>15</th>\n",
       "      <td>85</td>\n",
       "      <td>104</td>\n",
       "      <td>0.550265</td>\n",
       "    </tr>\n",
       "    <tr>\n",
       "      <th>12</th>\n",
       "      <td>134</td>\n",
       "      <td>163</td>\n",
       "      <td>0.548822</td>\n",
       "    </tr>\n",
       "    <tr>\n",
       "      <th>5</th>\n",
       "      <td>111</td>\n",
       "      <td>135</td>\n",
       "      <td>0.548780</td>\n",
       "    </tr>\n",
       "    <tr>\n",
       "      <th>122</th>\n",
       "      <td>266</td>\n",
       "      <td>320</td>\n",
       "      <td>0.546075</td>\n",
       "    </tr>\n",
       "    <tr>\n",
       "      <th>23</th>\n",
       "      <td>252</td>\n",
       "      <td>298</td>\n",
       "      <td>0.541818</td>\n",
       "    </tr>\n",
       "    <tr>\n",
       "      <th>8</th>\n",
       "      <td>187</td>\n",
       "      <td>220</td>\n",
       "      <td>0.540541</td>\n",
       "    </tr>\n",
       "    <tr>\n",
       "      <th>119</th>\n",
       "      <td>310</td>\n",
       "      <td>363</td>\n",
       "      <td>0.539376</td>\n",
       "    </tr>\n",
       "    <tr>\n",
       "      <th>21</th>\n",
       "      <td>209</td>\n",
       "      <td>244</td>\n",
       "      <td>0.538631</td>\n",
       "    </tr>\n",
       "    <tr>\n",
       "      <th>33</th>\n",
       "      <td>95</td>\n",
       "      <td>110</td>\n",
       "      <td>0.536585</td>\n",
       "    </tr>\n",
       "    <tr>\n",
       "      <th>90</th>\n",
       "      <td>207</td>\n",
       "      <td>239</td>\n",
       "      <td>0.535874</td>\n",
       "    </tr>\n",
       "    <tr>\n",
       "      <th>19</th>\n",
       "      <td>406</td>\n",
       "      <td>462</td>\n",
       "      <td>0.532258</td>\n",
       "    </tr>\n",
       "    <tr>\n",
       "      <th>113</th>\n",
       "      <td>119</td>\n",
       "      <td>134</td>\n",
       "      <td>0.529644</td>\n",
       "    </tr>\n",
       "    <tr>\n",
       "      <th>29</th>\n",
       "      <td>462</td>\n",
       "      <td>519</td>\n",
       "      <td>0.529052</td>\n",
       "    </tr>\n",
       "    <tr>\n",
       "      <th>101</th>\n",
       "      <td>108</td>\n",
       "      <td>121</td>\n",
       "      <td>0.528384</td>\n",
       "    </tr>\n",
       "    <tr>\n",
       "      <th>115</th>\n",
       "      <td>133</td>\n",
       "      <td>149</td>\n",
       "      <td>0.528369</td>\n",
       "    </tr>\n",
       "    <tr>\n",
       "      <th>82</th>\n",
       "      <td>52</td>\n",
       "      <td>58</td>\n",
       "      <td>0.527273</td>\n",
       "    </tr>\n",
       "    <tr>\n",
       "      <th>92</th>\n",
       "      <td>498</td>\n",
       "      <td>552</td>\n",
       "      <td>0.525714</td>\n",
       "    </tr>\n",
       "    <tr>\n",
       "      <th>40</th>\n",
       "      <td>447</td>\n",
       "      <td>494</td>\n",
       "      <td>0.524973</td>\n",
       "    </tr>\n",
       "    <tr>\n",
       "      <th>42</th>\n",
       "      <td>195</td>\n",
       "      <td>215</td>\n",
       "      <td>0.524390</td>\n",
       "    </tr>\n",
       "    <tr>\n",
       "      <th>51</th>\n",
       "      <td>827</td>\n",
       "      <td>911</td>\n",
       "      <td>0.524166</td>\n",
       "    </tr>\n",
       "    <tr>\n",
       "      <th>4</th>\n",
       "      <td>225</td>\n",
       "      <td>247</td>\n",
       "      <td>0.523305</td>\n",
       "    </tr>\n",
       "    <tr>\n",
       "      <th>59</th>\n",
       "      <td>463</td>\n",
       "      <td>508</td>\n",
       "      <td>0.523172</td>\n",
       "    </tr>\n",
       "    <tr>\n",
       "      <th>...</th>\n",
       "      <td>...</td>\n",
       "      <td>...</td>\n",
       "      <td>...</td>\n",
       "    </tr>\n",
       "    <tr>\n",
       "      <th>236</th>\n",
       "      <td>820</td>\n",
       "      <td>722</td>\n",
       "      <td>0.468223</td>\n",
       "    </tr>\n",
       "    <tr>\n",
       "      <th>421</th>\n",
       "      <td>321</td>\n",
       "      <td>282</td>\n",
       "      <td>0.467662</td>\n",
       "    </tr>\n",
       "    <tr>\n",
       "      <th>75</th>\n",
       "      <td>130</td>\n",
       "      <td>114</td>\n",
       "      <td>0.467213</td>\n",
       "    </tr>\n",
       "    <tr>\n",
       "      <th>143</th>\n",
       "      <td>219</td>\n",
       "      <td>192</td>\n",
       "      <td>0.467153</td>\n",
       "    </tr>\n",
       "    <tr>\n",
       "      <th>131</th>\n",
       "      <td>97</td>\n",
       "      <td>84</td>\n",
       "      <td>0.464088</td>\n",
       "    </tr>\n",
       "    <tr>\n",
       "      <th>99</th>\n",
       "      <td>242</td>\n",
       "      <td>209</td>\n",
       "      <td>0.463415</td>\n",
       "    </tr>\n",
       "    <tr>\n",
       "      <th>64</th>\n",
       "      <td>782</td>\n",
       "      <td>672</td>\n",
       "      <td>0.462173</td>\n",
       "    </tr>\n",
       "    <tr>\n",
       "      <th>74</th>\n",
       "      <td>106</td>\n",
       "      <td>91</td>\n",
       "      <td>0.461929</td>\n",
       "    </tr>\n",
       "    <tr>\n",
       "      <th>98</th>\n",
       "      <td>206</td>\n",
       "      <td>176</td>\n",
       "      <td>0.460733</td>\n",
       "    </tr>\n",
       "    <tr>\n",
       "      <th>44</th>\n",
       "      <td>68</td>\n",
       "      <td>58</td>\n",
       "      <td>0.460317</td>\n",
       "    </tr>\n",
       "    <tr>\n",
       "      <th>136</th>\n",
       "      <td>67</td>\n",
       "      <td>57</td>\n",
       "      <td>0.459677</td>\n",
       "    </tr>\n",
       "    <tr>\n",
       "      <th>77</th>\n",
       "      <td>57</td>\n",
       "      <td>48</td>\n",
       "      <td>0.457143</td>\n",
       "    </tr>\n",
       "    <tr>\n",
       "      <th>83</th>\n",
       "      <td>69</td>\n",
       "      <td>58</td>\n",
       "      <td>0.456693</td>\n",
       "    </tr>\n",
       "    <tr>\n",
       "      <th>96</th>\n",
       "      <td>85</td>\n",
       "      <td>71</td>\n",
       "      <td>0.455128</td>\n",
       "    </tr>\n",
       "    <tr>\n",
       "      <th>268</th>\n",
       "      <td>24</td>\n",
       "      <td>20</td>\n",
       "      <td>0.454545</td>\n",
       "    </tr>\n",
       "    <tr>\n",
       "      <th>238</th>\n",
       "      <td>354</td>\n",
       "      <td>294</td>\n",
       "      <td>0.453704</td>\n",
       "    </tr>\n",
       "    <tr>\n",
       "      <th>6</th>\n",
       "      <td>17</td>\n",
       "      <td>14</td>\n",
       "      <td>0.451613</td>\n",
       "    </tr>\n",
       "    <tr>\n",
       "      <th>420</th>\n",
       "      <td>89</td>\n",
       "      <td>73</td>\n",
       "      <td>0.450617</td>\n",
       "    </tr>\n",
       "    <tr>\n",
       "      <th>84</th>\n",
       "      <td>173</td>\n",
       "      <td>141</td>\n",
       "      <td>0.449045</td>\n",
       "    </tr>\n",
       "    <tr>\n",
       "      <th>48</th>\n",
       "      <td>185</td>\n",
       "      <td>144</td>\n",
       "      <td>0.437690</td>\n",
       "    </tr>\n",
       "    <tr>\n",
       "      <th>81</th>\n",
       "      <td>243</td>\n",
       "      <td>187</td>\n",
       "      <td>0.434884</td>\n",
       "    </tr>\n",
       "    <tr>\n",
       "      <th>110</th>\n",
       "      <td>247</td>\n",
       "      <td>190</td>\n",
       "      <td>0.434783</td>\n",
       "    </tr>\n",
       "    <tr>\n",
       "      <th>45</th>\n",
       "      <td>169</td>\n",
       "      <td>127</td>\n",
       "      <td>0.429054</td>\n",
       "    </tr>\n",
       "    <tr>\n",
       "      <th>203</th>\n",
       "      <td>131</td>\n",
       "      <td>96</td>\n",
       "      <td>0.422907</td>\n",
       "    </tr>\n",
       "    <tr>\n",
       "      <th>111</th>\n",
       "      <td>110</td>\n",
       "      <td>80</td>\n",
       "      <td>0.421053</td>\n",
       "    </tr>\n",
       "    <tr>\n",
       "      <th>112</th>\n",
       "      <td>183</td>\n",
       "      <td>133</td>\n",
       "      <td>0.420886</td>\n",
       "    </tr>\n",
       "    <tr>\n",
       "      <th>107</th>\n",
       "      <td>95</td>\n",
       "      <td>68</td>\n",
       "      <td>0.417178</td>\n",
       "    </tr>\n",
       "    <tr>\n",
       "      <th>427</th>\n",
       "      <td>114</td>\n",
       "      <td>80</td>\n",
       "      <td>0.412371</td>\n",
       "    </tr>\n",
       "    <tr>\n",
       "      <th>86</th>\n",
       "      <td>77</td>\n",
       "      <td>54</td>\n",
       "      <td>0.412214</td>\n",
       "    </tr>\n",
       "    <tr>\n",
       "      <th>13</th>\n",
       "      <td>46</td>\n",
       "      <td>27</td>\n",
       "      <td>0.369863</td>\n",
       "    </tr>\n",
       "  </tbody>\n",
       "</table>\n",
       "<p>136 rows × 3 columns</p>\n",
       "</div>"
      ],
      "text/plain": [
       "win       False  True  WL_ratio\n",
       "champ_id                       \n",
       "133          33    48  0.592593\n",
       "20          257   368  0.588800\n",
       "55          154   212  0.579235\n",
       "266          50    66  0.568966\n",
       "34          196   251  0.561521\n",
       "80          212   271  0.561077\n",
       "57          108   136  0.557377\n",
       "62          112   138  0.552000\n",
       "15           85   104  0.550265\n",
       "12          134   163  0.548822\n",
       "5           111   135  0.548780\n",
       "122         266   320  0.546075\n",
       "23          252   298  0.541818\n",
       "8           187   220  0.540541\n",
       "119         310   363  0.539376\n",
       "21          209   244  0.538631\n",
       "33           95   110  0.536585\n",
       "90          207   239  0.535874\n",
       "19          406   462  0.532258\n",
       "113         119   134  0.529644\n",
       "29          462   519  0.529052\n",
       "101         108   121  0.528384\n",
       "115         133   149  0.528369\n",
       "82           52    58  0.527273\n",
       "92          498   552  0.525714\n",
       "40          447   494  0.524973\n",
       "42          195   215  0.524390\n",
       "51          827   911  0.524166\n",
       "4           225   247  0.523305\n",
       "59          463   508  0.523172\n",
       "...         ...   ...       ...\n",
       "236         820   722  0.468223\n",
       "421         321   282  0.467662\n",
       "75          130   114  0.467213\n",
       "143         219   192  0.467153\n",
       "131          97    84  0.464088\n",
       "99          242   209  0.463415\n",
       "64          782   672  0.462173\n",
       "74          106    91  0.461929\n",
       "98          206   176  0.460733\n",
       "44           68    58  0.460317\n",
       "136          67    57  0.459677\n",
       "77           57    48  0.457143\n",
       "83           69    58  0.456693\n",
       "96           85    71  0.455128\n",
       "268          24    20  0.454545\n",
       "238         354   294  0.453704\n",
       "6            17    14  0.451613\n",
       "420          89    73  0.450617\n",
       "84          173   141  0.449045\n",
       "48          185   144  0.437690\n",
       "81          243   187  0.434884\n",
       "110         247   190  0.434783\n",
       "45          169   127  0.429054\n",
       "203         131    96  0.422907\n",
       "111         110    80  0.421053\n",
       "112         183   133  0.420886\n",
       "107          95    68  0.417178\n",
       "427         114    80  0.412371\n",
       "86           77    54  0.412214\n",
       "13           46    27  0.369863\n",
       "\n",
       "[136 rows x 3 columns]"
      ]
     },
     "execution_count": 211,
     "metadata": {},
     "output_type": "execute_result"
    }
   ],
   "source": [
    "#Win/Loss percent over the sample by champion.\n",
    "#Note how much work it took to set up a Win/Loss ratio.\n",
    "#However, vectorizing results can result in significant computational savings!\n",
    "#I could set up a binomial confidence interval to get more meaningful results!\n",
    "win_loss.sort_values('WL_ratio',ascending=False)"
   ]
  },
  {
   "cell_type": "code",
   "execution_count": 215,
   "metadata": {
    "collapsed": false
   },
   "outputs": [],
   "source": [
    "wl2 = win_loss.reset_index()"
   ]
  },
  {
   "cell_type": "code",
   "execution_count": 221,
   "metadata": {
    "collapsed": false
   },
   "outputs": [
    {
     "data": {
      "text/plain": [
       "(array([  1.,   2.,   7.,   9.,  27.,  37.,  29.,  13.,   8.,   3.]),\n",
       " array([ 0.36986301,  0.39213597,  0.41440893,  0.43668189,  0.45895485,\n",
       "         0.4812278 ,  0.50350076,  0.52577372,  0.54804668,  0.57031963,\n",
       "         0.59259259]),\n",
       " <a list of 10 Patch objects>)"
      ]
     },
     "execution_count": 221,
     "metadata": {},
     "output_type": "execute_result"
    },
    {
     "data": {
      "image/png": "[encoded data removed]",
      "text/plain": [
       "<matplotlib.figure.Figure at 0x10d40ac8>"
      ]
     },
     "metadata": {},
     "output_type": "display_data"
    }
   ],
   "source": [
    "plt.hist(win_loss['WL_ratio'].values)"
   ]
  },
  {
   "cell_type": "code",
   "execution_count": 222,
   "metadata": {
    "collapsed": false
   },
   "outputs": [
    {
     "data": {
      "text/plain": [
       "0.03729817876744209"
      ]
     },
     "execution_count": 222,
     "metadata": {},
     "output_type": "execute_result"
    }
   ],
   "source": [
    "#Standard Deviation for Win/Loss ration for each champion (They are unweighted for play % though!)\n",
    "np.std(win_loss['WL_ratio'].values)"
   ]
  },
  {
   "cell_type": "code",
   "execution_count": 216,
   "metadata": {
    "collapsed": false
   },
   "outputs": [
    {
     "data": {
      "text/html": [
       "<div>\n",
       "<table border=\"1\" class=\"dataframe\">\n",
       "  <thead>\n",
       "    <tr style=\"text-align: right;\">\n",
       "      <th>win</th>\n",
       "      <th>champ_id</th>\n",
       "      <th>False</th>\n",
       "      <th>True</th>\n",
       "      <th>WL_ratio</th>\n",
       "    </tr>\n",
       "  </thead>\n",
       "  <tbody>\n",
       "    <tr>\n",
       "      <th>76</th>\n",
       "      <td>86</td>\n",
       "      <td>77</td>\n",
       "      <td>54</td>\n",
       "      <td>0.412214</td>\n",
       "    </tr>\n",
       "  </tbody>\n",
       "</table>\n",
       "</div>"
      ],
      "text/plain": [
       "win  champ_id  False  True  WL_ratio\n",
       "76         86     77    54  0.412214"
      ]
     },
     "execution_count": 216,
     "metadata": {},
     "output_type": "execute_result"
    }
   ],
   "source": [
    "#Garen's got a pretty low win rate.\n",
    "wl2[wl2['champ_id']==86]"
   ]
  },
  {
   "cell_type": "markdown",
   "metadata": {},
   "source": [
    "### A bunch of preliminary calculations used for creating the control loop used above."
   ]
  },
  {
   "cell_type": "code",
   "execution_count": 21,
   "metadata": {
    "collapsed": false
   },
   "outputs": [],
   "source": [
    "# works!\n",
    "with open('matchData/'+matches[0]) as f:\n",
    "    test = json.load(f)\n",
    "    #for line in f:\n",
    "    #    json.load(line)"
   ]
  },
  {
   "cell_type": "code",
   "execution_count": 96,
   "metadata": {
    "collapsed": false
   },
   "outputs": [],
   "source": [
    "#test"
   ]
  },
  {
   "cell_type": "code",
   "execution_count": 95,
   "metadata": {
    "collapsed": false
   },
   "outputs": [],
   "source": [
    "#test.keys()"
   ]
  },
  {
   "cell_type": "code",
   "execution_count": 55,
   "metadata": {
    "collapsed": false
   },
   "outputs": [
    {
     "data": {
      "text/plain": [
       "86"
      ]
     },
     "execution_count": 55,
     "metadata": {},
     "output_type": "execute_result"
    }
   ],
   "source": [
    "game_id = [test['gameId']]*10\n",
    "champ_id = test['participants'][0]['championId']"
   ]
  },
  {
   "cell_type": "code",
   "execution_count": 64,
   "metadata": {
    "collapsed": false
   },
   "outputs": [
    {
     "data": {
      "text/plain": [
       "[{u'masteryId': 6212, u'rank': 5},\n",
       " {u'masteryId': 6221, u'rank': 1},\n",
       " {u'masteryId': 6232, u'rank': 5},\n",
       " {u'masteryId': 6243, u'rank': 1},\n",
       " {u'masteryId': 6252, u'rank': 5},\n",
       " {u'masteryId': 6263, u'rank': 1},\n",
       " {u'masteryId': 6311, u'rank': 5},\n",
       " {u'masteryId': 6322, u'rank': 1},\n",
       " {u'masteryId': 6332, u'rank': 5},\n",
       " {u'masteryId': 6342, u'rank': 1}]"
      ]
     },
     "execution_count": 64,
     "metadata": {},
     "output_type": "execute_result"
    }
   ],
   "source": [
    "test['participants'][2]['masteries']"
   ]
  },
  {
   "cell_type": "code",
   "execution_count": 94,
   "metadata": {
    "collapsed": false
   },
   "outputs": [],
   "source": [
    "#test['participants'][0]"
   ]
  },
  {
   "cell_type": "code",
   "execution_count": 35,
   "metadata": {
    "collapsed": false
   },
   "outputs": [
    {
     "data": {
      "text/plain": [
       "{u'masteryId': 6114, u'rank': 5}"
      ]
     },
     "execution_count": 35,
     "metadata": {},
     "output_type": "execute_result"
    }
   ],
   "source": [
    "test['participants'][0]['masteries'][0]"
   ]
  },
  {
   "cell_type": "code",
   "execution_count": 78,
   "metadata": {
    "collapsed": true
   },
   "outputs": [],
   "source": [
    "num_players = 10"
   ]
  },
  {
   "cell_type": "code",
   "execution_count": 90,
   "metadata": {
    "collapsed": true
   },
   "outputs": [],
   "source": [
    "tot_dmg_taken_list = []\n",
    "tot_dmg_dealt_list = []\n",
    "dmg_mitig_list = []\n",
    "gld_list = []\n",
    "win_list = []\n",
    "chmp_list = []\n",
    "game_id = []"
   ]
  },
  {
   "cell_type": "code",
   "execution_count": 91,
   "metadata": {
    "collapsed": false
   },
   "outputs": [],
   "source": [
    "for player in range(num_players):\n",
    "    tot_dmg_taken_list.append(test['participants'][player]['stats']['totalDamageTaken'])\n",
    "    tot_dmg_dealt_list.append(test['participants'][player]['stats']['totalDamageDealt'])\n",
    "    dmg_mitig_list.append(test['participants'][player]['stats']['damageSelfMitigated'])\n",
    "    gld_list.append(test['participants'][player]['stats']['goldEarned'])\n",
    "    win_list.append(test['participants'][player]['stats']['win'])\n",
    "    chmp_list.append(test['participants'][player]['championId'])\n",
    "    game_id.append(test['gameId'])"
   ]
  },
  {
   "cell_type": "code",
   "execution_count": 89,
   "metadata": {
    "collapsed": false
   },
   "outputs": [
    {
     "data": {
      "text/plain": [
       "2536802224L"
      ]
     },
     "execution_count": 89,
     "metadata": {},
     "output_type": "execute_result"
    }
   ],
   "source": [
    "test['gameId']"
   ]
  },
  {
   "cell_type": "code",
   "execution_count": 77,
   "metadata": {
    "collapsed": false
   },
   "outputs": [
    {
     "data": {
      "text/plain": [
       "[18324, 24723, 16113, 25269, 13178, 30744, 17175, 11880, 14976, 16339]"
      ]
     },
     "execution_count": 77,
     "metadata": {},
     "output_type": "execute_result"
    }
   ],
   "source": [
    "tot_dmg_taken_list"
   ]
  },
  {
   "cell_type": "code",
   "execution_count": 92,
   "metadata": {
    "collapsed": false
   },
   "outputs": [],
   "source": [
    "df = pd.DataFrame(\n",
    "                  {'game_id':game_id,\n",
    "                   'champ_id':chmp_list,\n",
    "                   'tot_dmg_tkn':tot_dmg_taken_list,\n",
    "                   'tot_dmg_dlt':tot_dmg_dealt_list,\n",
    "                   'dmg_mitig':dmg_mitig_list,\n",
    "                   'gold':gld_list,\n",
    "                   'win':win_list}\n",
    "                )"
   ]
  },
  {
   "cell_type": "code",
   "execution_count": 93,
   "metadata": {
    "collapsed": false
   },
   "outputs": [
    {
     "data": {
      "text/html": [
       "<div>\n",
       "<table border=\"1\" class=\"dataframe\">\n",
       "  <thead>\n",
       "    <tr style=\"text-align: right;\">\n",
       "      <th></th>\n",
       "      <th>champ_id</th>\n",
       "      <th>dmg_mitig</th>\n",
       "      <th>game_id</th>\n",
       "      <th>gold</th>\n",
       "      <th>tot_dmg_dlt</th>\n",
       "      <th>tot_dmg_tkn</th>\n",
       "      <th>win</th>\n",
       "    </tr>\n",
       "  </thead>\n",
       "  <tbody>\n",
       "    <tr>\n",
       "      <th>0</th>\n",
       "      <td>86</td>\n",
       "      <td>29548</td>\n",
       "      <td>2536802224</td>\n",
       "      <td>10459</td>\n",
       "      <td>77655</td>\n",
       "      <td>18324</td>\n",
       "      <td>True</td>\n",
       "    </tr>\n",
       "    <tr>\n",
       "      <th>1</th>\n",
       "      <td>64</td>\n",
       "      <td>19682</td>\n",
       "      <td>2536802224</td>\n",
       "      <td>9529</td>\n",
       "      <td>113023</td>\n",
       "      <td>24723</td>\n",
       "      <td>True</td>\n",
       "    </tr>\n",
       "    <tr>\n",
       "      <th>2</th>\n",
       "      <td>201</td>\n",
       "      <td>13760</td>\n",
       "      <td>2536802224</td>\n",
       "      <td>8495</td>\n",
       "      <td>22933</td>\n",
       "      <td>16113</td>\n",
       "      <td>True</td>\n",
       "    </tr>\n",
       "    <tr>\n",
       "      <th>3</th>\n",
       "      <td>85</td>\n",
       "      <td>17846</td>\n",
       "      <td>2536802224</td>\n",
       "      <td>14383</td>\n",
       "      <td>142162</td>\n",
       "      <td>25269</td>\n",
       "      <td>True</td>\n",
       "    </tr>\n",
       "    <tr>\n",
       "      <th>4</th>\n",
       "      <td>69</td>\n",
       "      <td>6136</td>\n",
       "      <td>2536802224</td>\n",
       "      <td>8921</td>\n",
       "      <td>74442</td>\n",
       "      <td>13178</td>\n",
       "      <td>True</td>\n",
       "    </tr>\n",
       "    <tr>\n",
       "      <th>5</th>\n",
       "      <td>31</td>\n",
       "      <td>21255</td>\n",
       "      <td>2536802224</td>\n",
       "      <td>8256</td>\n",
       "      <td>100410</td>\n",
       "      <td>30744</td>\n",
       "      <td>False</td>\n",
       "    </tr>\n",
       "    <tr>\n",
       "      <th>6</th>\n",
       "      <td>238</td>\n",
       "      <td>8757</td>\n",
       "      <td>2536802224</td>\n",
       "      <td>9300</td>\n",
       "      <td>94978</td>\n",
       "      <td>17175</td>\n",
       "      <td>False</td>\n",
       "    </tr>\n",
       "    <tr>\n",
       "      <th>7</th>\n",
       "      <td>37</td>\n",
       "      <td>5960</td>\n",
       "      <td>2536802224</td>\n",
       "      <td>5739</td>\n",
       "      <td>13533</td>\n",
       "      <td>11880</td>\n",
       "      <td>False</td>\n",
       "    </tr>\n",
       "    <tr>\n",
       "      <th>8</th>\n",
       "      <td>81</td>\n",
       "      <td>7620</td>\n",
       "      <td>2536802224</td>\n",
       "      <td>8184</td>\n",
       "      <td>77565</td>\n",
       "      <td>14976</td>\n",
       "      <td>False</td>\n",
       "    </tr>\n",
       "    <tr>\n",
       "      <th>9</th>\n",
       "      <td>126</td>\n",
       "      <td>11032</td>\n",
       "      <td>2536802224</td>\n",
       "      <td>8358</td>\n",
       "      <td>83903</td>\n",
       "      <td>16339</td>\n",
       "      <td>False</td>\n",
       "    </tr>\n",
       "  </tbody>\n",
       "</table>\n",
       "</div>"
      ],
      "text/plain": [
       "   champ_id  dmg_mitig     game_id   gold  tot_dmg_dlt  tot_dmg_tkn    win\n",
       "0        86      29548  2536802224  10459        77655        18324   True\n",
       "1        64      19682  2536802224   9529       113023        24723   True\n",
       "2       201      13760  2536802224   8495        22933        16113   True\n",
       "3        85      17846  2536802224  14383       142162        25269   True\n",
       "4        69       6136  2536802224   8921        74442        13178   True\n",
       "5        31      21255  2536802224   8256       100410        30744  False\n",
       "6       238       8757  2536802224   9300        94978        17175  False\n",
       "7        37       5960  2536802224   5739        13533        11880  False\n",
       "8        81       7620  2536802224   8184        77565        14976  False\n",
       "9       126      11032  2536802224   8358        83903        16339  False"
      ]
     },
     "execution_count": 93,
     "metadata": {},
     "output_type": "execute_result"
    }
   ],
   "source": [
    "df"
   ]
  },
  {
   "cell_type": "code",
   "execution_count": 73,
   "metadata": {
    "collapsed": false
   },
   "outputs": [
    {
     "data": {
      "text/plain": [
       "True"
      ]
     },
     "execution_count": 73,
     "metadata": {},
     "output_type": "execute_result"
    }
   ],
   "source": [
    "test['participants'][0]['stats']['totalDamageTaken']\n",
    "test['participants'][0]['stats']['totalDamageDealt']\n",
    "test['participants'][0]['stats']['damageSelfMitigated']\n",
    "test['participants'][0]['stats']['goldEarned']\n",
    "test['participants'][0]['stats']['win']\n"
   ]
  },
  {
   "cell_type": "code",
   "execution_count": 72,
   "metadata": {
    "collapsed": false
   },
   "outputs": [
    {
     "data": {
      "text/plain": [
       "{u'assists': 6,\n",
       " u'champLevel': 14,\n",
       " u'combatPlayerScore': 0,\n",
       " u'damageDealtToObjectives': 4026,\n",
       " u'damageDealtToTurrets': 4026,\n",
       " u'damageSelfMitigated': 29548,\n",
       " u'deaths': 1,\n",
       " u'doubleKills': 1,\n",
       " u'firstBloodAssist': False,\n",
       " u'firstBloodKill': False,\n",
       " u'firstInhibitorAssist': False,\n",
       " u'firstInhibitorKill': False,\n",
       " u'firstTowerAssist': False,\n",
       " u'firstTowerKill': False,\n",
       " u'goldEarned': 10459,\n",
       " u'goldSpent': 8825,\n",
       " u'inhibitorKills': 0,\n",
       " u'item0': 1054,\n",
       " u'item1': 3143,\n",
       " u'item2': 3047,\n",
       " u'item3': 1031,\n",
       " u'item4': 3071,\n",
       " u'item5': 1028,\n",
       " u'item6': 3340,\n",
       " u'killingSprees': 1,\n",
       " u'kills': 7,\n",
       " u'largestCriticalStrike': 0,\n",
       " u'largestKillingSpree': 6,\n",
       " u'largestMultiKill': 2,\n",
       " u'longestTimeSpentLiving': 1308,\n",
       " u'magicDamageDealt': 1715,\n",
       " u'magicDamageDealtToChampions': 1715,\n",
       " u'magicalDamageTaken': 3698,\n",
       " u'neutralMinionsKilled': 1,\n",
       " u'neutralMinionsKilledEnemyJungle': 1,\n",
       " u'neutralMinionsKilledTeamJungle': 0,\n",
       " u'objectivePlayerScore': 0,\n",
       " u'participantId': 1,\n",
       " u'pentaKills': 0,\n",
       " u'physicalDamageDealt': 73203,\n",
       " u'physicalDamageDealtToChampions': 6954,\n",
       " u'physicalDamageTaken': 14462,\n",
       " u'quadraKills': 0,\n",
       " u'sightWardsBoughtInGame': 0,\n",
       " u'timeCCingOthers': 22,\n",
       " u'totalDamageDealt': 77655,\n",
       " u'totalDamageDealtToChampions': 10586,\n",
       " u'totalDamageTaken': 18324,\n",
       " u'totalHeal': 1274,\n",
       " u'totalMinionsKilled': 149,\n",
       " u'totalPlayerScore': 0,\n",
       " u'totalScoreRank': 0,\n",
       " u'totalTimeCrowdControlDealt': 444,\n",
       " u'totalUnitsHealed': 4,\n",
       " u'tripleKills': 0,\n",
       " u'trueDamageDealt': 2736,\n",
       " u'trueDamageDealtToChampions': 1916,\n",
       " u'trueDamageTaken': 164,\n",
       " u'turretKills': 2,\n",
       " u'unrealKills': 0,\n",
       " u'visionScore': 13,\n",
       " u'visionWardsBoughtInGame': 1,\n",
       " u'wardsKilled': 1,\n",
       " u'wardsPlaced': 9,\n",
       " u'win': True}"
      ]
     },
     "execution_count": 72,
     "metadata": {},
     "output_type": "execute_result"
    }
   ],
   "source": [
    "test['participants'][0]['stats']"
   ]
  },
  {
   "cell_type": "code",
   "execution_count": 36,
   "metadata": {
    "collapsed": false
   },
   "outputs": [
    {
     "name": "stdout",
     "output_type": "stream",
     "text": [
      "match-2536802224.json\n",
      "match-2536802235.json\n",
      "match-2536802243.json\n",
      "match-2536802332.json\n",
      "match-2536802336.json\n",
      "match-2536802343.json\n",
      "match-2536802345.json\n",
      "match-2536802348.json\n",
      "match-2536802369.json\n",
      "match-2536802373.json\n"
     ]
    },
    {
     "name": "stderr",
     "output_type": "stream",
     "text": [
      "ls: write error\n"
     ]
    }
   ],
   "source": [
    "!ls matchData | head"
   ]
  },
  {
   "cell_type": "code",
   "execution_count": null,
   "metadata": {
    "collapsed": true
   },
   "outputs": [],
   "source": []
  }
 ],
 "metadata": {
  "kernelspec": {
   "display_name": "Python 2",
   "language": "python",
   "name": "python2"
  },
  "language_info": {
   "codemirror_mode": {
    "name": "ipython",
    "version": 2
   },
   "file_extension": ".py",
   "mimetype": "text/x-python",
   "name": "python",
   "nbconvert_exporter": "python",
   "pygments_lexer": "ipython2",
   "version": "2.7.13"
  }
 },
 "nbformat": 4,
 "nbformat_minor": 0
}
